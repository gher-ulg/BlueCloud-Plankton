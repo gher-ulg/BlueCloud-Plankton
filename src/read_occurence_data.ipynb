{
 "cells": [
  {
   "cell_type": "code",
   "execution_count": 1,
   "metadata": {},
   "outputs": [
    {
     "name": "stderr",
     "output_type": "stream",
     "text": [
      "┌ Info: Precompiling BlueCloudPlankton [top-level]\n",
      "└ @ Base loading.jl:1260\n"
     ]
    }
   ],
   "source": [
    "using DIVAnd\n",
    "using PyPlot\n",
    "using PyCall\n",
    "using Dates\n",
    "using Statistics\n",
    "using DelimitedFiles\n",
    "push!(LOAD_PATH, pwd())\n",
    "using BlueCloudPlankton\n",
    "using Test"
   ]
  },
  {
   "cell_type": "code",
   "execution_count": 2,
   "metadata": {},
   "outputs": [],
   "source": [
    "# Import stuff from cartopy\n",
    "ccrs = pyimport(\"cartopy.crs\")\n",
    "gridliner = pyimport(\"cartopy.mpl.gridliner\")\n",
    "cfeature = pyimport(\"cartopy.feature\")\n",
    "mticker = pyimport(\"matplotlib.ticker\")\n",
    "myproj = ccrs.PlateCarree()\n",
    "coast = cfeature.GSHHSFeature(scale=\"intermediate\");\n",
    "coast_h = cfeature.GSHHSFeature(scale=\"high\");\n",
    "\n",
    "mpl = pyimport(\"matplotlib\");\n",
    "cartopyticker = pyimport(\"cartopy.mpl.ticker\")\n",
    "lon_formatter = cartopyticker.LongitudeFormatter()\n",
    "lat_formatter = cartopyticker.LatitudeFormatter()\n",
    "mpl.rc(\"axes\", linewidth=2)\n",
    "mpl.rc(\"font\", weight=\"light\", size=14)"
   ]
  },
  {
   "cell_type": "code",
   "execution_count": 3,
   "metadata": {},
   "outputs": [
    {
     "name": "stderr",
     "output_type": "stream",
     "text": [
      "┌ Info: true\n",
      "└ @ Main In[3]:7\n"
     ]
    },
    {
     "data": {
      "text/plain": [
       "30.0:0.5:80.0"
      ]
     },
     "execution_count": 3,
     "metadata": {},
     "output_type": "execute_result"
    }
   ],
   "source": [
    "datadir = \"../data/\"\n",
    "figdir = \"../figures\"\n",
    "if !isdir(figdir)\n",
    "    mkdir(figdir)\n",
    "end\n",
    "datafile = joinpath(datadir, \"data.csv\")\n",
    "@info(isfile(datafile));\n",
    "\n",
    "longrid = -90.:0.5:40.\n",
    "latgrid = 30.:0.5:80."
   ]
  },
  {
   "cell_type": "code",
   "execution_count": null,
   "metadata": {},
   "outputs": [],
   "source": [
    "function decorate_global_map(ax, coast)\n",
    "    PyPlot.grid(linewidth=0.2)\n",
    "    ax.add_feature(coast, color=\".6\",\n",
    "            edgecolor=\"k\", zorder=5)\n",
    "    ax.set_xticks(-180.:45.5:180.)\n",
    "    ax.set_yticks(-90.:30:90.)\n",
    "    ax.xaxis.set_major_formatter(lon_formatter)\n",
    "    ax.yaxis.set_major_formatter(lat_formatter)\n",
    "\n",
    "end"
   ]
  },
  {
   "cell_type": "code",
   "execution_count": 7,
   "metadata": {},
   "outputs": [
    {
     "data": {
      "text/plain": [
       "decorate_domain_map (generic function with 1 method)"
      ]
     },
     "execution_count": 7,
     "metadata": {},
     "output_type": "execute_result"
    }
   ],
   "source": [
    "function decorate_domain_map(ax, coast)\n",
    "    PyPlot.grid(linewidth=0.2)\n",
    "    ax.add_feature(coast, color=\".6\",\n",
    "            edgecolor=\"k\", zorder=5)\n",
    "    ax.set_xticks(-90.:20.:40.)\n",
    "    ax.set_yticks(30.:10.:80.)\n",
    "    ax.set_xlim(-90., 40.)\n",
    "    ax.set_ylim(30., 80.)\n",
    "    ax.xaxis.set_major_formatter(lon_formatter)\n",
    "    ax.yaxis.set_major_formatter(lat_formatter)\n",
    "\n",
    "end"
   ]
  },
  {
   "cell_type": "code",
   "execution_count": null,
   "metadata": {},
   "outputs": [],
   "source": [
    "fig = PyPlot.figure()\n",
    "ax = subplot(111, projection=myproj)\n",
    "ax.plot(0., 0., \"ko\")\n",
    "decorate_domain_map(ax, coast)"
   ]
  },
  {
   "cell_type": "markdown",
   "metadata": {},
   "source": [
    "## Read data"
   ]
  },
  {
   "cell_type": "code",
   "execution_count": 4,
   "metadata": {},
   "outputs": [],
   "source": [
    "lon, lat, dates, abundance, scientificNames = BlueCloudPlankton.read_data(datafile);"
   ]
  },
  {
   "cell_type": "code",
   "execution_count": 5,
   "metadata": {},
   "outputs": [
    {
     "data": {
      "text/plain": [
       "6-element Array{Any,1}:\n",
       " \"Metridia lucens\"\n",
       " \"Calanus finmarchicus\"\n",
       " \"Oithona\"\n",
       " \"Temora longicornis\"\n",
       " \"Acartia\"\n",
       " \"Calanus helgolandicus\""
      ]
     },
     "execution_count": 5,
     "metadata": {},
     "output_type": "execute_result"
    }
   ],
   "source": [
    "namelist = unique(scientificNames)"
   ]
  },
  {
   "cell_type": "markdown",
   "metadata": {},
   "source": [
    "## Plots"
   ]
  },
  {
   "cell_type": "code",
   "execution_count": null,
   "metadata": {},
   "outputs": [],
   "source": [
    "fig = PyPlot.figure(figsize=(12, 15))\n",
    "ax = PyPlot.subplot(111, projection=myproj)\n",
    "ax.plot(lon, lat, \"go\", markersize=0.2)\n",
    "BlueCloudPlankton.decorate_domain_map(ax, coast_h)\n",
    "PyPlot.savefig(joinpath(figdir, \"data_distrib03\"), dpi=300, bbox_inches=\"tight\")\n",
    "PyPlot.close()"
   ]
  },
  {
   "cell_type": "markdown",
   "metadata": {},
   "source": [
    "### By species"
   ]
  },
  {
   "cell_type": "code",
   "execution_count": 7,
   "metadata": {},
   "outputs": [
    {
     "ename": "UndefVarError",
     "evalue": "UndefVarError: namelist not defined",
     "output_type": "error",
     "traceback": [
      "UndefVarError: namelist not defined",
      "",
      "Stacktrace:",
      " [1] top-level scope at ./In[7]:2"
     ]
    }
   ],
   "source": [
    "fig = PyPlot.figure(figsize=(15, 12))\n",
    "for (ii, names) in enumerate(namelist)\n",
    "    gooddata = findall(scientificNames .== names)\n",
    "    @info(\"Found $(length(gooddata)) data points for $(names)\")\n",
    "    ax = PyPlot.subplot(3, 2, ii, projection=myproj)\n",
    "    ax.plot(0., 0.)\n",
    "    ax.plot(lon[gooddata], lat[gooddata], \"k.\", markersize=0.2)\n",
    "    title(\"$(names): $(length(gooddata)) data points\")\n",
    "    decorate_domain_map(ax)\n",
    "end\n",
    "PyPlot.savefig(joinpath(figdir, \"data_species\"), dpi=300, bbox_inches=\"tight\")\n",
    "PyPlot.close()"
   ]
  },
  {
   "cell_type": "markdown",
   "metadata": {},
   "source": [
    "## Bathymetry"
   ]
  },
  {
   "cell_type": "code",
   "execution_count": 8,
   "metadata": {},
   "outputs": [
    {
     "data": {
      "text/plain": [
       "\"../data/gebco_30sec_16.nc\""
      ]
     },
     "execution_count": 8,
     "metadata": {},
     "output_type": "execute_result"
    }
   ],
   "source": [
    "bathname = joinpath(datadir, \"gebco_30sec_16.nc\")"
   ]
  },
  {
   "cell_type": "code",
   "execution_count": 9,
   "metadata": {},
   "outputs": [
    {
     "name": "stderr",
     "output_type": "stream",
     "text": [
      "┌ Info: Bathymetry file already downloaded\n",
      "└ @ Main In[9]:5\n"
     ]
    }
   ],
   "source": [
    "if !isfile(bathname)\n",
    "    @info(\"Download bathymetry\")\n",
    "    download(\"https://dox.ulg.ac.be/index.php/s/U0pqyXhcQrXjEUX/download\",bathname)\n",
    "else\n",
    "    @info(\"Bathymetry file already downloaded\")\n",
    "end"
   ]
  },
  {
   "cell_type": "code",
   "execution_count": 10,
   "metadata": {},
   "outputs": [],
   "source": [
    "bx, by, b = load_bath(bathname, true, longrid, latgrid);"
   ]
  },
  {
   "cell_type": "code",
   "execution_count": 11,
   "metadata": {},
   "outputs": [],
   "source": [
    "fig = PyPlot.figure(figsize=(10, 10))\n",
    "ax = PyPlot.subplot(111, projection=myproj)\n",
    "pcm = ax.pcolor(bx, by, b'); \n",
    "colorbar(pcm, orientation=\"vertical\", shrink=0.35)\n",
    "PyPlot.title(\"Bathymetry\")\n",
    "PyPlot.savefig(joinpath(figdir, \"domain_bathymetry2\"), dpi=300, bbox_inches=\"tight\")\n",
    "PyPlot.close()"
   ]
  },
  {
   "cell_type": "markdown",
   "metadata": {},
   "source": [
    "### Metrics"
   ]
  },
  {
   "cell_type": "code",
   "execution_count": 12,
   "metadata": {},
   "outputs": [],
   "source": [
    "_, (pm,pn), (xi,yi) = DIVAnd.DIVAnd_rectdom(longrid, latgrid);"
   ]
  },
  {
   "cell_type": "markdown",
   "metadata": {},
   "source": [
    "### Land-sea mask"
   ]
  },
  {
   "cell_type": "code",
   "execution_count": 13,
   "metadata": {},
   "outputs": [],
   "source": [
    "xmask, ymask, mmask = load_mask(bathname, true, longrid, latgrid, 0.0);"
   ]
  },
  {
   "cell_type": "code",
   "execution_count": 14,
   "metadata": {},
   "outputs": [
    {
     "ename": "UndefVarError",
     "evalue": "UndefVarError: decorate_domain_map not defined",
     "output_type": "error",
     "traceback": [
      "UndefVarError: decorate_domain_map not defined",
      "",
      "Stacktrace:",
      " [1] top-level scope at In[14]:4"
     ]
    }
   ],
   "source": [
    "fig = PyPlot.figure(figsize=(10, 10))\n",
    "ax = PyPlot.subplot(111, projection=myproj)\n",
    "pcm = ax.pcolor(bx, by, transpose(mmask), cmap=PyPlot.cm.binary_r); \n",
    "decorate_domain_map(ax)\n",
    "PyPlot.title(\"Land-sea mask\")\n",
    "PyPlot.savefig(joinpath(figdir, \"domain_landsea_mask2\"), dpi=300, bbox_inches=\"tight\")\n",
    "PyPlot.close()"
   ]
  },
  {
   "cell_type": "markdown",
   "metadata": {},
   "source": [
    "## DIVAnd interpolation\n",
    "### Set parameters"
   ]
  },
  {
   "cell_type": "code",
   "execution_count": 15,
   "metadata": {},
   "outputs": [
    {
     "data": {
      "text/plain": [
       "10.0"
      ]
     },
     "execution_count": 15,
     "metadata": {},
     "output_type": "execute_result"
    }
   ],
   "source": [
    "len = 2.5;\n",
    "epsilon2 = 10."
   ]
  },
  {
   "cell_type": "code",
   "execution_count": 16,
   "metadata": {},
   "outputs": [
    {
     "ename": "UndefVarError",
     "evalue": "UndefVarError: namelist not defined",
     "output_type": "error",
     "traceback": [
      "UndefVarError: namelist not defined",
      "",
      "Stacktrace:",
      " [1] top-level scope at In[16]:1"
     ]
    }
   ],
   "source": [
    "gooddata = findall(scientificNames .== namelist[1])\n",
    "@info(\"Found $(length(gooddata)) data points for $(namelist[1])\")"
   ]
  },
  {
   "cell_type": "code",
   "execution_count": 17,
   "metadata": {},
   "outputs": [],
   "source": [
    "llon, llat = ndgrid(longrid, latgrid);"
   ]
  },
  {
   "cell_type": "code",
   "execution_count": 18,
   "metadata": {},
   "outputs": [
    {
     "ename": "UndefVarError",
     "evalue": "UndefVarError: namelist not defined",
     "output_type": "error",
     "traceback": [
      "UndefVarError: namelist not defined",
      "",
      "Stacktrace:",
      " [1] top-level scope at ./In[18]:1"
     ]
    }
   ],
   "source": [
    "for (ii, names) in enumerate(namelist[1])\n",
    "    gooddata = findall(scientificNames .== names)\n",
    "    fi, s = DIVAndrun(mmask, (pm, pn), (llon, llat), \n",
    "        (lon[gooddata], lat[gooddata]), abundance[gooddata] .- mean(abundance[gooddata]), \n",
    "        (len, len), epsilon2);\n",
    "    \n",
    "    fname = \"$(replace(namelist[ii], \" \"=>\"_\"))_interp\"\n",
    "    ncfilename = \"$(replace(namelist[ii], \" \"=>\"_\"))_interp.nc\"\n",
    "    #plot_results(longrid, latgrid, fi .+ mean(abundance[gooddata]), \n",
    "    #    namelist[ii], joinpath(figdir, fname))\n",
    "    create_nc_results(ncfilename, longrid, latgrid, field, names)\n",
    "end "
   ]
  },
  {
   "cell_type": "code",
   "execution_count": null,
   "metadata": {},
   "outputs": [],
   "source": []
  },
  {
   "cell_type": "code",
   "execution_count": 19,
   "metadata": {},
   "outputs": [
    {
     "ename": "UndefVarError",
     "evalue": "UndefVarError: namelist not defined",
     "output_type": "error",
     "traceback": [
      "UndefVarError: namelist not defined",
      "",
      "Stacktrace:",
      " [1] top-level scope at In[19]:1"
     ]
    }
   ],
   "source": [
    "fname = \"$(replace(namelist[1], \" \"=>\"_\"))_interp\"\n",
    "plot_results(longrid, latgrid, fi .+ mean(abundance[gooddata]), \n",
    "    namelist[1], joinpath(figdir, fname))"
   ]
  },
  {
   "cell_type": "code",
   "execution_count": 20,
   "metadata": {},
   "outputs": [],
   "source": [
    "function create_nc_results(filename::String, lons, lats, field,\n",
    "    speciesname::String=\"\"; valex=-999.9)\n",
    "    Dataset(filename, \"c\") do ds\n",
    "\n",
    "        # Dimensions\n",
    "        ds.dim[\"lon\"] = length(lons)\n",
    "        ds.dim[\"lat\"] = length(lats)\n",
    "        ds.dim[\"time\"] = Inf # unlimited dimension\n",
    "\n",
    "        # Declare variables\n",
    "        ncfield = defVar(ds,\"LOGSPM\", Float64, (\"lon\", \"lat\", \"time\"))\n",
    "        ncfield.attrib[\"missing_value\"] = Float64(valex)\n",
    "        ncfield.attrib[\"_FillValue\"] = Float64(valex)\n",
    "        ncfield.attrib[\"long_name\"] = \"interpolated abundance\"\n",
    "        ncfield.attrib[\"units\"] = \"ind/m3\"\n",
    "\n",
    "        nctime = defVar(ds,\"time\", Float32, (\"time\",))\n",
    "        nctime.attrib[\"missing_value\"] = Float32(valex)\n",
    "        nctime.attrib[\"units\"] = \"seconds since 1981-01-01 00:00:00\"\n",
    "        nctime.attrib[\"time\"] = \"time\"\n",
    "\n",
    "        nclon = defVar(ds,\"lon\", Float32, (\"lon\",))\n",
    "        nclon.attrib[\"missing_value\"] = Float32(valex)\n",
    "        nclon.attrib[\"_FillValue\"] = Float32(valex)\n",
    "        nclon.attrib[\"units\"] = \"degrees East\"\n",
    "        nclon.attrib[\"lon\"] = \"longitude\"\n",
    "\n",
    "        nclat = defVar(ds,\"lat\", Float32, (\"lat\",))\n",
    "        nclat.attrib[\"missing_value\"] = Float32(valex)\n",
    "        nclat.attrib[\"_FillValue\"] = Float32(valex)\n",
    "        nclat.attrib[\"units\"] = \"degrees North\"\n",
    "        nclat.attrib[\"lat\"] = \"latitude\"\n",
    "\n",
    "        # Global attributes\n",
    "        ds.attrib[\"institution\"] = \"GHER - University of Liege\"\n",
    "        ds.attrib[\"title\"] = \"Interpolated field of $(speciesname)\"\n",
    "        ds.attrib[\"comment\"] = \"Original data prepared by VLIZ\"\n",
    "        ds.attrib[\"author\"] = \"C. Troupin (ctroupin@uliege), A. Barth (a.barth@uliege.be)\"\n",
    "        ds.attrib[\"tool\"] = \"create_nc_spm_tile.jl\"\n",
    "        ds.attrib[\"institution_url\"] = \"http://labos.ulg.ac.be/gher/\"\n",
    "        ds.attrib[\"institution_logo_url\"] = \"http://gher-diva.phys.ulg.ac.be/Images/gher-logo.png\"\n",
    "\n",
    "        # Define variables\n",
    "        ncfield[:] = field\n",
    "        # nctime[:] = times\n",
    "        nclon[:] = lons\n",
    "        nclat[:] = lats;\n",
    "\n",
    "    end\n",
    "end;"
   ]
  },
  {
   "cell_type": "code",
   "execution_count": null,
   "metadata": {},
   "outputs": [],
   "source": []
  }
 ],
 "metadata": {
  "@webio": {
   "lastCommId": null,
   "lastKernelId": null
  },
  "kernelspec": {
   "display_name": "Julia 1.4.0",
   "language": "julia",
   "name": "julia-1.4"
  },
  "language_info": {
   "file_extension": ".jl",
   "mimetype": "application/julia",
   "name": "julia",
   "version": "1.4.0"
  }
 },
 "nbformat": 4,
 "nbformat_minor": 2
}
