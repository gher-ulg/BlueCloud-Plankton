{
 "cells": [
  {
   "cell_type": "markdown",
   "metadata": {},
   "source": [
    "# BlueCloud Zooplankton Demonstrator\n",
    "\n",
    "This notebook plots the results from the previous notebook DIVAndNN_analysis.ipynb."
   ]
  },
  {
   "cell_type": "code",
   "execution_count": null,
   "metadata": {},
   "outputs": [],
   "source": [
    "using DIVAnd\n",
    "using DIVAndNN\n",
    "push!(LOAD_PATH,@__DIR__)\n",
    "using BlueCloudPlankton\n",
    "using Dates\n",
    "using JSON\n",
    "using PyPlot\n",
    "using Glob\n",
    "using Statistics\n",
    "using NCDatasets"
   ]
  },
  {
   "cell_type": "code",
   "execution_count": null,
   "metadata": {},
   "outputs": [],
   "source": [
    "\n",
    "include(\"grid.jl\")\n",
    "datafile = joinpath(datadir, \"data-cpr.csv\")"
   ]
  },
  {
   "cell_type": "markdown",
   "metadata": {},
   "source": [
    "Bathymetry for plotting"
   ]
  },
  {
   "cell_type": "code",
   "execution_count": null,
   "metadata": {},
   "outputs": [],
   "source": [
    "bathname = joinpath(datadir,\"gebco_30sec_4.nc\");\n",
    "bathisglobal = true;\n",
    "bx,by,b = DIVAnd.extract_bath(bathname,bathisglobal,gridlon,gridlat);"
   ]
  },
  {
   "cell_type": "markdown",
   "metadata": {},
   "source": [
    "Load observations and analysis"
   ]
  },
  {
   "cell_type": "code",
   "execution_count": null,
   "metadata": {},
   "outputs": [],
   "source": [
    "expdir = joinpath(resdir,\"results-ncovars3-epsilon2ap10-len300000.0-niter500-nlayers3-ndimensions2\")\n",
    "lon, lat, dates, value, scientificNames = BlueCloudPlankton.read_data(datafile)\n",
    "scientificname_accepted = unique(scientificNames)\n",
    "@show unique(scientificNames)"
   ]
  },
  {
   "cell_type": "markdown",
   "metadata": {},
   "source": [
    "Helper functions for plotting"
   ]
  },
  {
   "cell_type": "code",
   "execution_count": null,
   "metadata": {},
   "outputs": [],
   "source": [
    "function decorate()\n",
    "    colorbar(orientation=\"horizontal\")\n",
    "    contourf(bx,by,b' .> 0, levels=[0,.5], cmap = \"gray\")\n",
    "    gca().set_aspect(1/cosd(mean(gridlat)))\n",
    "end"
   ]
  },
  {
   "cell_type": "code",
   "execution_count": null,
   "metadata": {},
   "outputs": [],
   "source": [
    "function plotfield(filename)\n",
    "    fig = figure(figsize = (10,5))\n",
    "    sname = split(basename(filename),\"_\")[2]\n",
    "\n",
    "    ds = Dataset(filename)\n",
    "    value_analysis = nomissing(ds[sname * \"_L1\"][:,:],NaN)\n",
    "    gridlon = ds[\"lon\"][:]\n",
    "    gridlat = ds[\"lat\"][:]\n",
    "    close(ds)\n",
    "\n",
    "    sel = scientificNames .== sname\n",
    "    XY = DIVAnd.ndgrid(gridlon,gridlat)\n",
    "    value_binned = DIVAndNN.binobs((lon[sel],lat[sel]),value[sel],XY);\n",
    "\n",
    "    cl = quantile(value_binned[isfinite.(value_binned)],[0.01, 0.99])\n",
    "    if cl[1] == 0\n",
    "        cl = (cl[2]/100,cl[2])\n",
    "        @warn \"setting explicitly lower scale to $(cl[1]) for $sname\"\n",
    "    end\n",
    "\n",
    "    @show cl\n",
    "    norm = PyPlot.matplotlib.colors.LogNorm(vmin=cl[1], vmax=cl[2])\n",
    "\n",
    "    clf()\n",
    "    fig.suptitle(sname,style=\"italic\")\n",
    "    subplot(1,2,1)\n",
    "    pcolormesh(gridlon,gridlat,value_binned', norm = norm)\n",
    "    title(\"Binned observations\")\n",
    "    decorate()\n",
    "\n",
    "\n",
    "    subplot(1,2,2)\n",
    "    pcolormesh(gridlon,gridlat,value_analysis', norm = norm)\n",
    "    title(\"Analysis\")\n",
    "    decorate()\n",
    "    savefig(joinpath(figdir,\"$sname.png\"))\n",
    "end"
   ]
  },
  {
   "cell_type": "markdown",
   "metadata": {},
   "source": [
    "Plot the result for the first species"
   ]
  },
  {
   "cell_type": "code",
   "execution_count": null,
   "metadata": {},
   "outputs": [],
   "source": [
    "filenames = glob(\"*nc\",expdir);\n",
    "plotfield(filenames[1])"
   ]
  },
  {
   "cell_type": "markdown",
   "metadata": {},
   "source": [
    "Plot the all species"
   ]
  },
  {
   "cell_type": "code",
   "execution_count": null,
   "metadata": {},
   "outputs": [],
   "source": [
    "plotfield.(filenames)"
   ]
  }
 ],
 "metadata": {
  "jupytext": {
   "cell_metadata_filter": "-all",
   "formats": "ipynb,jl:percent",
   "main_language": "julia"
  },
  "kernelspec": {
   "display_name": "Julia 1.5.1",
   "language": "julia",
   "name": "julia-1.5"
  }
 },
 "nbformat": 4,
 "nbformat_minor": 2
}
