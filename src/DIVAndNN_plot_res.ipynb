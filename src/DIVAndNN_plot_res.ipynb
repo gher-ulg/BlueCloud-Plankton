{
 "cells": [
  {
   "cell_type": "markdown",
   "metadata": {},
   "source": [
    "# BlueCloud Zooplankton Demonstrator\n",
    "\n",
    "This notebook plots the results from the previous notebook DIVAndNN_analysis.ipynb."
   ]
  },
  {
   "cell_type": "code",
   "execution_count": null,
   "metadata": {},
   "outputs": [],
   "source": [
    "srcdir = get(ENV,\"SRCDIR\",\"/workspace/VREFolders/Zoo-Phytoplankton_EOV/DIVAndNN/bluecloud-plankton-master/src/\")\n",
    "using VideoIO\n",
    "using Images\n",
    "using DIVAnd\n",
    "using DIVAndNN\n",
    "push!(LOAD_PATH,srcdir)\n",
    "push!(LOAD_PATH,@__DIR__)\n",
    "using BlueCloudPlankton\n",
    "using Dates\n",
    "using JSON\n",
    "using PyPlot\n",
    "using Glob\n",
    "using Statistics\n",
    "using NCDatasets"
   ]
  },
  {
   "cell_type": "code",
   "execution_count": null,
   "metadata": {},
   "outputs": [],
   "source": [
    "include(joinpath(srcdir,\"grid.jl\"))\n",
    "datafile = joinpath(datadir, \"data-cpr.csv\")"
   ]
  },
  {
   "cell_type": "markdown",
   "metadata": {},
   "source": [
    "Bathymetry for plotting"
   ]
  },
  {
   "cell_type": "code",
   "execution_count": null,
   "metadata": {},
   "outputs": [],
   "source": [
    "bathname = joinpath(datadir,\"gebco_30sec_4.nc\");\n",
    "bathisglobal = true;\n",
    "bx,by,b = DIVAnd.extract_bath(bathname,bathisglobal,gridlon,gridlat);"
   ]
  },
  {
   "cell_type": "markdown",
   "metadata": {},
   "source": [
    "Load observations"
   ]
  },
  {
   "cell_type": "code",
   "execution_count": null,
   "metadata": {},
   "outputs": [],
   "source": [
    "\n",
    "lon, lat, dates, value, scientificNames = BlueCloudPlankton.read_data(datafile)\n",
    "scientificname_accepted = unique(scientificNames)"
   ]
  },
  {
   "cell_type": "markdown",
   "metadata": {},
   "source": [
    "Load analysis"
   ]
  },
  {
   "cell_type": "code",
   "execution_count": null,
   "metadata": {},
   "outputs": [],
   "source": [
    "\n",
    "function createtime(dirn)\n",
    "    open(dirn) do f\n",
    "        return mtime(f)\n",
    "    end\n",
    "end\n",
    "\n",
    "expdir = last(sort(joinpath.(resdir,readdir(resdir)),by = createtime))"
   ]
  },
  {
   "cell_type": "markdown",
   "metadata": {},
   "source": [
    "Helper functions for plotting"
   ]
  },
  {
   "cell_type": "code",
   "execution_count": null,
   "metadata": {},
   "outputs": [],
   "source": [
    "function decorate()\n",
    "    colorbar(orientation=\"horizontal\")\n",
    "    contourf(bx,by,b' .> 0, levels=[0,.5], cmap = \"gray\")\n",
    "    gca().set_aspect(1/cosd(mean(gridlat)))\n",
    "end"
   ]
  },
  {
   "cell_type": "code",
   "execution_count": null,
   "metadata": {},
   "outputs": [],
   "source": [
    "function plotfield(filename)\n",
    "    fig = figure(figsize = (10,5))\n",
    "    sname = split(basename(filename),\"_\")[2]\n",
    "\n",
    "    ds = Dataset(filename)\n",
    "    value_analysis = nomissing(ds[sname * \"_L1\"][:],NaN)\n",
    "    gridlon = ds[\"lon\"][:]\n",
    "    gridlat = ds[\"lat\"][:]\n",
    "    gridtime =\n",
    "        if haskey(ds,\"time\")\n",
    "            ds[\"time\"][:]\n",
    "        else\n",
    "            # there no time dimension in product\n",
    "            [nothing]\n",
    "        end\n",
    "    close(ds)\n",
    "\n",
    "    value_binned = zeros(length(gridlon),length(gridlat),length(gridtime))\n",
    "\n",
    "    for n = 1:length(gridtime)\n",
    "        sel = scientificNames .== sname\n",
    "\n",
    "        if gridtime[n] !== nothing\n",
    "            sel = sel .& (gridtime[n] .<= dates .<= (gridtime[n] + Dates.Year(1)))\n",
    "        end\n",
    "\n",
    "        XY = DIVAnd.ndgrid(gridlon,gridlat)\n",
    "        value_binned[:,:,n] = DIVAndNN.binobs((lon[sel],lat[sel]),value[sel],XY);\n",
    "    end\n",
    "\n",
    "    cl = quantile(value_binned[isfinite.(value_binned)],[0.01, 0.99])\n",
    "    if cl[1] == 0\n",
    "        cl = (cl[2]/100,cl[2])\n",
    "        @warn \"setting explicitly lower scale to $(cl[1]) for $sname\"\n",
    "    end\n",
    "    norm = PyPlot.matplotlib.colors.LogNorm(vmin=cl[1], vmax=cl[2])\n",
    "\n",
    "    for n = 1:length(gridtime)\n",
    "        clf()\n",
    "        suptitle =\n",
    "            if gridtime[n] !== nothing\n",
    "                \"$sname $(Dates.year(gridtime[n]))\"\n",
    "            else\n",
    "                sname\n",
    "            end\n",
    "\n",
    "        fig.suptitle(suptitle,style=\"italic\")\n",
    "        subplot(1,2,1)\n",
    "        pcolormesh(gridlon,gridlat,value_binned[:,:,n]', norm = norm)\n",
    "        title(\"Binned observations\")\n",
    "        decorate()\n",
    "\n",
    "\n",
    "        subplot(1,2,2)\n",
    "        pcolormesh(gridlon,gridlat,value_analysis[:,:,n]', norm = norm)\n",
    "        title(\"Analysis\")\n",
    "        decorate()\n",
    "        savefig(joinpath(figdir,\"$sname-$n.png\"))\n",
    "    end\n",
    "end"
   ]
  },
  {
   "cell_type": "markdown",
   "metadata": {},
   "source": [
    "Plot the result for the first species"
   ]
  },
  {
   "cell_type": "code",
   "execution_count": null,
   "metadata": {},
   "outputs": [],
   "source": [
    "PyPlot.ioff()\n",
    "filenames = glob(\"*nc\",expdir);\n",
    "plotfield(filenames[1]);"
   ]
  },
  {
   "cell_type": "markdown",
   "metadata": {},
   "source": [
    "Plot the all species"
   ]
  },
  {
   "cell_type": "code",
   "execution_count": null,
   "metadata": {},
   "outputs": [],
   "source": [
    "plotfield.(filenames);"
   ]
  },
  {
   "cell_type": "markdown",
   "metadata": {},
   "source": [
    "Make an animation of the all species distribution"
   ]
  },
  {
   "cell_type": "code",
   "execution_count": null,
   "metadata": {},
   "outputs": [],
   "source": [
    "animation_format = \"mp4\"\n",
    "\n",
    "for filename in filenames\n",
    "    sname = split(basename(filename),\"_\")[2]\n",
    "    ds = Dataset(filename)\n",
    "\n",
    "    if haskey(ds,\"time\")\n",
    "        gridtime = ds[\"time\"][:]\n",
    "\n",
    "        @info \"Encode animation of $sname\"\n",
    "\n",
    "        imgnames = [joinpath(figdir,\"$sname-$n.png\") for n = 1:length(gridtime)]\n",
    "        imgstack = [RGB.(Images.load(imgname)) for imgname in imgnames];\n",
    "        VideoIO.save(joinpath(figdir,\"$sname.$animation_format\"),imgstack,framerate = 2);\n",
    "    end\n",
    "\n",
    "    close(ds)\n",
    "end\n",
    "\n",
    "@info \"Figures have been saved in $(figdir). Consider to copy the files to a permanent storage.\""
   ]
  }
 ],
 "metadata": {
  "jupytext": {
   "cell_metadata_filter": "-all",
   "formats": "ipynb,jl:percent"
  },
  "kernelspec": {
   "display_name": "Julia 1.5.1",
   "language": "julia",
   "name": "julia-1.5"
  }
 },
 "nbformat": 4,
 "nbformat_minor": 2
}
